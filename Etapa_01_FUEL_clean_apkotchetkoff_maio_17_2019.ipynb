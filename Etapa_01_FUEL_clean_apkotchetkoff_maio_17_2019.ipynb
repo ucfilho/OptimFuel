{
  "nbformat": 4,
  "nbformat_minor": 0,
  "metadata": {
    "colab": {
      "name": "Etapa_01_FUEL_clean_apkotchetkoff_maio_17_2019.ipynb",
      "version": "0.3.2",
      "provenance": [],
      "collapsed_sections": [],
      "include_colab_link": true
    },
    "kernelspec": {
      "name": "python3",
      "display_name": "Python 3"
    }
  },
  "cells": [
    {
      "cell_type": "markdown",
      "metadata": {
        "id": "view-in-github",
        "colab_type": "text"
      },
      "source": [
        "<a href=\"https://colab.research.google.com/github/ucfilho/OptimFuel/blob/master/Etapa_01_FUEL_clean_apkotchetkoff_maio_17_2019.ipynb\" target=\"_parent\"><img src=\"https://colab.research.google.com/assets/colab-badge.svg\" alt=\"Open In Colab\"/></a>"
      ]
    },
    {
      "cell_type": "code",
      "metadata": {
        "id": "7NbbpZvv_gum",
        "colab_type": "code",
        "colab": {}
      },
      "source": [
        "import os\n",
        "import numpy as np\n",
        "import pandas as pd\n",
        "import matplotlib.pyplot as plt\n",
        "\n",
        "%matplotlib inline"
      ],
      "execution_count": 0,
      "outputs": []
    },
    {
      "cell_type": "code",
      "metadata": {
        "id": "5MhVSl3YAYP5",
        "colab_type": "code",
        "outputId": "e9071e41-8898-4dbf-b7c7-6fecc210211d",
        "colab": {
          "base_uri": "https://localhost:8080/",
          "height": 54
        }
      },
      "source": [
        "# FIRST STEP: open directory\n",
        "!git clone https://github.com/ucfilho/OptimFuel\n",
        "%cd OptimFuel"
      ],
      "execution_count": 2,
      "outputs": [
        {
          "output_type": "stream",
          "text": [
            "fatal: destination path 'OptimFuel' already exists and is not an empty directory.\n",
            "/content/OptimFuel\n"
          ],
          "name": "stdout"
        }
      ]
    },
    {
      "cell_type": "code",
      "metadata": {
        "id": "yjlvXNhi_7uq",
        "colab_type": "code",
        "colab": {}
      },
      "source": [
        "# SECOND STEP: load and clean data\n",
        "TRAIN_01=pd.read_csv(\"fila_1_target.csv\")\n",
        "TRAIN_01=TRAIN_01.fillna(0)\n",
        "TRAIN_02=pd.read_csv(\"fila_1_tch.csv\")\n",
        "TRAIN_02=TRAIN_02.fillna(0)\n",
        "TRAIN_03=pd.read_csv(\"fila_1_fuel.csv\")\n",
        "TRAIN_03=TRAIN_03.fillna(0)\n",
        "TRAIN_03 = TRAIN_03.replace(' ',0, regex=True)\n",
        "TRAIN_03=TRAIN_03[:].astype(np.float)\n",
        "TRAIN_04=pd.read_csv(\"fila_1_vol.csv\")\n",
        "TRAIN_04=TRAIN_04.fillna(0)\n"
      ],
      "execution_count": 0,
      "outputs": []
    },
    {
      "cell_type": "code",
      "metadata": {
        "id": "mYPfigvpAxbU",
        "colab_type": "code",
        "outputId": "98d7a482-5377-4540-98bc-1045a24120d2",
        "colab": {
          "base_uri": "https://localhost:8080/",
          "height": 492
        }
      },
      "source": [
        "print(TRAIN_01.head())\n",
        "print(TRAIN_02.head())\n",
        "print(TRAIN_03.head())\n",
        "print(TRAIN_04.head())"
      ],
      "execution_count": 4,
      "outputs": [
        {
          "output_type": "stream",
          "text": [
            "   Ilha1  Ilha2  Ilha3  Ilha4  TEMPO INÍCIO  TEMPO FINAL\n",
            "0    0.0    0.0    1.0    0.0       360.000      397.227\n",
            "1    0.0    1.0    0.0    0.0       365.000      401.099\n",
            "2    1.0    0.0    0.0    0.0       370.000      388.492\n",
            "3    0.0    0.0    1.0    0.0       397.227      447.043\n",
            "4    0.0    1.0    0.0    0.0       401.099      431.313\n",
            "  TRUCK  Tch\n",
            "0  cam1  360\n",
            "1  cam2  365\n",
            "2  cam3  370\n",
            "3  cam4  375\n",
            "4  cam5  380\n",
            "   A.OD  A.GA  A.AH  B.OD  B.GA  B.AH  ...  F.OD  F.GA  F.AH  G.OD  G.GA  G.AH\n",
            "0   1.0   0.0   0.0   1.0   0.0   0.0  ...   0.0   0.0   0.0   0.0   0.0   0.0\n",
            "1   1.0   0.0   0.0   1.0   0.0   0.0  ...   0.0   0.0   0.0   0.0   0.0   0.0\n",
            "2   1.0   0.0   0.0   1.0   0.0   0.0  ...   0.0   0.0   0.0   0.0   0.0   0.0\n",
            "3   1.0   0.0   0.0   1.0   0.0   0.0  ...   0.0   1.0   0.0   0.0   0.0   0.0\n",
            "4   1.0   0.0   0.0   1.0   0.0   0.0  ...   0.0   1.0   0.0   0.0   0.0   0.0\n",
            "\n",
            "[5 rows x 21 columns]\n",
            "      A       B        C       D       E       F    G\n",
            "0  5000  5000.0  10000.0  5000.0     0.0     0.0  0.0\n",
            "1  5000  3000.0   5000.0  5000.0  3000.0     0.0  0.0\n",
            "2  5000  5000.0   5000.0     0.0     0.0     0.0  0.0\n",
            "3  5000  5000.0   5000.0  5000.0  5000.0  5000.0  0.0\n",
            "4  5000  5000.0   5000.0  5000.0  5000.0  5000.0  0.0\n"
          ],
          "name": "stdout"
        }
      ]
    }
  ]
}