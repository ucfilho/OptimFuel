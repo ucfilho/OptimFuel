{
  "nbformat": 4,
  "nbformat_minor": 0,
  "metadata": {
    "colab": {
      "name": "Etapa_01_filas_v_03_clean_apkotchetkoff_maio_17_2019.ipynb",
      "version": "0.3.2",
      "provenance": [],
      "collapsed_sections": [],
      "include_colab_link": true
    },
    "kernelspec": {
      "name": "python3",
      "display_name": "Python 3"
    }
  },
  "cells": [
    {
      "cell_type": "markdown",
      "metadata": {
        "id": "view-in-github",
        "colab_type": "text"
      },
      "source": [
        "<a href=\"https://colab.research.google.com/github/ucfilho/OptimFuel/blob/master/Etapa_01_filas_v_03_clean_apkotchetkoff_maio_17_2019.ipynb\" target=\"_parent\"><img src=\"https://colab.research.google.com/assets/colab-badge.svg\" alt=\"Open In Colab\"/></a>"
      ]
    },
    {
      "cell_type": "code",
      "metadata": {
        "id": "7NbbpZvv_gum",
        "colab_type": "code",
        "colab": {}
      },
      "source": [
        "import os\n",
        "import numpy as np\n",
        "import pandas as pd\n",
        "import matplotlib.pyplot as plt\n",
        "\n",
        "%matplotlib inline"
      ],
      "execution_count": 0,
      "outputs": []
    },
    {
      "cell_type": "code",
      "metadata": {
        "id": "5MhVSl3YAYP5",
        "colab_type": "code",
        "outputId": "2b45be58-4eb9-4f44-db9f-ebfaf55aaaac",
        "colab": {
          "base_uri": "https://localhost:8080/",
          "height": 54
        }
      },
      "source": [
        "!git clone https://github.com/ucfilho/OptimFuel\n",
        "%cd OptimFuel"
      ],
      "execution_count": 2,
      "outputs": [
        {
          "output_type": "stream",
          "text": [
            "fatal: destination path 'OptimFuel' already exists and is not an empty directory.\n",
            "/content/OptimFuel\n"
          ],
          "name": "stdout"
        }
      ]
    },
    {
      "cell_type": "code",
      "metadata": {
        "id": "yjlvXNhi_7uq",
        "colab_type": "code",
        "colab": {}
      },
      "source": [
        "TRAIN_01=pd.read_csv(\"fila_1_target.csv\")\n",
        "TRAIN_01=TRAIN_01.fillna(0)"
      ],
      "execution_count": 0,
      "outputs": []
    },
    {
      "cell_type": "code",
      "metadata": {
        "id": "mYPfigvpAxbU",
        "colab_type": "code",
        "colab": {}
      },
      "source": [
        "TRAIN_02=pd.read_csv(\"fila_1_tch.csv\")\n",
        "TRAIN_02=TRAIN_02.fillna(0)"
      ],
      "execution_count": 0,
      "outputs": []
    },
    {
      "cell_type": "code",
      "metadata": {
        "id": "z_bhPg1rA9PF",
        "colab_type": "code",
        "colab": {}
      },
      "source": [
        "TRAIN_03=pd.read_csv(\"fila_1_fuel.csv\")\n",
        "TRAIN_03=TRAIN_03.fillna(0)\n",
        "TRAIN_03 = TRAIN_03.replace(' ',0, regex=True)"
      ],
      "execution_count": 0,
      "outputs": []
    },
    {
      "cell_type": "code",
      "metadata": {
        "id": "Xp_kmQpwHqKF",
        "colab_type": "code",
        "colab": {}
      },
      "source": [
        "TRAIN_03=TRAIN_03[:].astype(np.float)"
      ],
      "execution_count": 0,
      "outputs": []
    },
    {
      "cell_type": "code",
      "metadata": {
        "id": "YvXCMeM1BEGF",
        "colab_type": "code",
        "colab": {}
      },
      "source": [
        "TRAIN_04=pd.read_csv(\"fila_1_vol.csv\")\n",
        "TRAIN_04=TRAIN_04.fillna(0)"
      ],
      "execution_count": 0,
      "outputs": []
    }
  ]
}