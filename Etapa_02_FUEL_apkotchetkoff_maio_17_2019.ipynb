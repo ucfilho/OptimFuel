{
  "nbformat": 4,
  "nbformat_minor": 0,
  "metadata": {
    "colab": {
      "name": "Etapa_02_FUEL_apkotchetkoff_maio_17_2019.ipynb",
      "version": "0.3.2",
      "provenance": [],
      "collapsed_sections": [],
      "include_colab_link": true
    },
    "kernelspec": {
      "name": "python3",
      "display_name": "Python 3"
    }
  },
  "cells": [
    {
      "cell_type": "markdown",
      "metadata": {
        "id": "view-in-github",
        "colab_type": "text"
      },
      "source": [
        "<a href=\"https://colab.research.google.com/github/ucfilho/OptimFuel/blob/master/Etapa_02_FUEL_apkotchetkoff_maio_17_2019.ipynb\" target=\"_parent\"><img src=\"https://colab.research.google.com/assets/colab-badge.svg\" alt=\"Open In Colab\"/></a>"
      ]
    },
    {
      "cell_type": "code",
      "metadata": {
        "id": "7NbbpZvv_gum",
        "colab_type": "code",
        "colab": {}
      },
      "source": [
        "import os\n",
        "import numpy as np\n",
        "import pandas as pd\n",
        "import matplotlib.pyplot as plt\n",
        "\n",
        "%matplotlib inline"
      ],
      "execution_count": 0,
      "outputs": []
    },
    {
      "cell_type": "code",
      "metadata": {
        "id": "5MhVSl3YAYP5",
        "colab_type": "code",
        "outputId": "e7ecb71d-b77b-42f8-85d2-d296d015dbf6",
        "colab": {
          "base_uri": "https://localhost:8080/",
          "height": 54
        }
      },
      "source": [
        "# FIRST STEP: open directory\n",
        "!git clone https://github.com/ucfilho/OptimFuel\n",
        "%cd OptimFuel"
      ],
      "execution_count": 2,
      "outputs": [
        {
          "output_type": "stream",
          "text": [
            "fatal: destination path 'OptimFuel' already exists and is not an empty directory.\n",
            "/content/OptimFuel\n"
          ],
          "name": "stdout"
        }
      ]
    },
    {
      "cell_type": "code",
      "metadata": {
        "id": "yjlvXNhi_7uq",
        "colab_type": "code",
        "colab": {}
      },
      "source": [
        "# SECOND STEP: load and clean data\n",
        "TRAIN_01=pd.read_csv(\"fila_1_target.csv\")\n",
        "TRAIN_01=TRAIN_01.fillna(0)\n",
        "TRAIN_02=pd.read_csv(\"fila_1_tch.csv\")\n",
        "TRAIN_02=TRAIN_02.fillna(0)\n",
        "TRAIN_03=pd.read_csv(\"fila_1_fuel.csv\")\n",
        "TRAIN_03=TRAIN_03.fillna(0)\n",
        "TRAIN_03 = TRAIN_03.replace(' ',0, regex=True)\n",
        "TRAIN_03=TRAIN_03[:].astype(np.float)\n",
        "TRAIN_04=pd.read_csv(\"fila_1_vol.csv\")\n",
        "TRAIN_04=TRAIN_04.fillna(0)\n"
      ],
      "execution_count": 0,
      "outputs": []
    },
    {
      "cell_type": "code",
      "metadata": {
        "id": "mYPfigvpAxbU",
        "colab_type": "code",
        "colab": {}
      },
      "source": [
        "# Third step: create variables\n",
        "Tch=TRAIN_02['Tch']\n",
        "Caminhoes=len(TRAIN_02['TRUCK'])\n",
        "# TIME=read.table('Melhor_ Ajustado_ANDRE_Sep_29_2017.txt',header=T)\n",
        "TIME=[]# ???\n",
        "# INICIO=Tch;\n",
        "# AJUSTE=Tch*0;\n",
        "# DEMORA=TIME*0; SAI=TIME*0; FIM=rep(0,Caminhoes);"
      ],
      "execution_count": 0,
      "outputs": []
    },
    {
      "cell_type": "code",
      "metadata": {
        "id": "myLnfxkp1dOo",
        "colab_type": "code",
        "colab": {}
      },
      "source": [
        ""
      ],
      "execution_count": 0,
      "outputs": []
    }
  ]
}