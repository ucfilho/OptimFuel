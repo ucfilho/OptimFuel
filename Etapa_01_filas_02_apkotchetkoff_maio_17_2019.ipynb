{
  "nbformat": 4,
  "nbformat_minor": 0,
  "metadata": {
    "colab": {
      "name": "Etapa_01_filas_02_apkotchetkoff_maio_17_2019.ipynb",
      "version": "0.3.2",
      "provenance": [],
      "collapsed_sections": [],
      "include_colab_link": true
    },
    "kernelspec": {
      "name": "python3",
      "display_name": "Python 3"
    }
  },
  "cells": [
    {
      "cell_type": "markdown",
      "metadata": {
        "id": "view-in-github",
        "colab_type": "text"
      },
      "source": [
        "<a href=\"https://colab.research.google.com/github/ucfilho/OptimFuel/blob/master/Etapa_01_filas_02_apkotchetkoff_maio_17_2019.ipynb\" target=\"_parent\"><img src=\"https://colab.research.google.com/assets/colab-badge.svg\" alt=\"Open In Colab\"/></a>"
      ]
    },
    {
      "cell_type": "code",
      "metadata": {
        "id": "7NbbpZvv_gum",
        "colab_type": "code",
        "colab": {}
      },
      "source": [
        "import os\n",
        "import numpy as np\n",
        "import pandas as pd\n",
        "import matplotlib.pyplot as plt\n",
        "\n",
        "%matplotlib inline"
      ],
      "execution_count": 0,
      "outputs": []
    },
    {
      "cell_type": "code",
      "metadata": {
        "id": "5MhVSl3YAYP5",
        "colab_type": "code",
        "outputId": "d7f60047-cb97-4750-e494-414b337d4a12",
        "colab": {
          "base_uri": "https://localhost:8080/",
          "height": 145
        }
      },
      "source": [
        "!git clone https://github.com/ucfilho/OptimFuel\n",
        "%cd OptimFuel"
      ],
      "execution_count": 0,
      "outputs": [
        {
          "output_type": "stream",
          "text": [
            "Cloning into 'OptimFuel'...\n",
            "remote: Enumerating objects: 25, done.\u001b[K\n",
            "remote: Counting objects:   4% (1/25)   \u001b[K\rremote: Counting objects:   8% (2/25)   \u001b[K\rremote: Counting objects:  12% (3/25)   \u001b[K\rremote: Counting objects:  16% (4/25)   \u001b[K\rremote: Counting objects:  20% (5/25)   \u001b[K\rremote: Counting objects:  24% (6/25)   \u001b[K\rremote: Counting objects:  28% (7/25)   \u001b[K\rremote: Counting objects:  32% (8/25)   \u001b[K\rremote: Counting objects:  36% (9/25)   \u001b[K\rremote: Counting objects:  40% (10/25)   \u001b[K\rremote: Counting objects:  44% (11/25)   \u001b[K\rremote: Counting objects:  48% (12/25)   \u001b[K\rremote: Counting objects:  52% (13/25)   \u001b[K\rremote: Counting objects:  56% (14/25)   \u001b[K\rremote: Counting objects:  60% (15/25)   \u001b[K\rremote: Counting objects:  64% (16/25)   \u001b[K\rremote: Counting objects:  68% (17/25)   \u001b[K\rremote: Counting objects:  72% (18/25)   \u001b[K\rremote: Counting objects:  76% (19/25)   \u001b[K\rremote: Counting objects:  80% (20/25)   \u001b[K\rremote: Counting objects:  84% (21/25)   \u001b[K\rremote: Counting objects:  88% (22/25)   \u001b[K\rremote: Counting objects:  92% (23/25)   \u001b[K\rremote: Counting objects:  96% (24/25)   \u001b[K\rremote: Counting objects: 100% (25/25)   \u001b[K\rremote: Counting objects: 100% (25/25), done.\u001b[K\n",
            "remote: Compressing objects:   4% (1/23)   \u001b[K\rremote: Compressing objects:   8% (2/23)   \u001b[K\rremote: Compressing objects:  13% (3/23)   \u001b[K\rremote: Compressing objects:  17% (4/23)   \u001b[K\rremote: Compressing objects:  21% (5/23)   \u001b[K\rremote: Compressing objects:  26% (6/23)   \u001b[K\rremote: Compressing objects:  30% (7/23)   \u001b[K\rremote: Compressing objects:  34% (8/23)   \u001b[K\rremote: Compressing objects:  39% (9/23)   \u001b[K\rremote: Compressing objects:  43% (10/23)   \u001b[K\rremote: Compressing objects:  47% (11/23)   \u001b[K\rremote: Compressing objects:  52% (12/23)   \u001b[K\rremote: Compressing objects:  56% (13/23)   \u001b[K\rremote: Compressing objects:  60% (14/23)   \u001b[K\rremote: Compressing objects:  65% (15/23)   \u001b[K\rremote: Compressing objects:  69% (16/23)   \u001b[K\rremote: Compressing objects:  73% (17/23)   \u001b[K\rremote: Compressing objects:  78% (18/23)   \u001b[K\rremote: Compressing objects:  82% (19/23)   \u001b[K\rremote: Compressing objects:  86% (20/23)   \u001b[K\rremote: Compressing objects:  91% (21/23)   \u001b[K\rremote: Compressing objects:  95% (22/23)   \u001b[K\rremote: Compressing objects: 100% (23/23)   \u001b[K\rremote: Compressing objects: 100% (23/23), done.\u001b[K\n",
            "remote: Total 25 (delta 7), reused 0 (delta 0), pack-reused 0\u001b[K\n",
            "Unpacking objects:   4% (1/25)   \rUnpacking objects:   8% (2/25)   \rUnpacking objects:  12% (3/25)   \rUnpacking objects:  16% (4/25)   \rUnpacking objects:  20% (5/25)   \rUnpacking objects:  24% (6/25)   \rUnpacking objects:  28% (7/25)   \rUnpacking objects:  32% (8/25)   \rUnpacking objects:  36% (9/25)   \rUnpacking objects:  40% (10/25)   \rUnpacking objects:  44% (11/25)   \rUnpacking objects:  48% (12/25)   \rUnpacking objects:  52% (13/25)   \rUnpacking objects:  56% (14/25)   \rUnpacking objects:  60% (15/25)   \rUnpacking objects:  64% (16/25)   \rUnpacking objects:  68% (17/25)   \rUnpacking objects:  72% (18/25)   \rUnpacking objects:  76% (19/25)   \rUnpacking objects:  80% (20/25)   \rUnpacking objects:  84% (21/25)   \rUnpacking objects:  88% (22/25)   \rUnpacking objects:  92% (23/25)   \rUnpacking objects:  96% (24/25)   \rUnpacking objects: 100% (25/25)   \rUnpacking objects: 100% (25/25), done.\n",
            "/content/OptimFuel/OptimFuel\n"
          ],
          "name": "stdout"
        }
      ]
    },
    {
      "cell_type": "code",
      "metadata": {
        "id": "yjlvXNhi_7uq",
        "colab_type": "code",
        "outputId": "8703fb61-0d7a-40d6-fc2e-3c8779ffd45c",
        "colab": {
          "base_uri": "https://localhost:8080/",
          "height": 127
        }
      },
      "source": [
        "TRAIN_01=pd.read_csv(\"fila_1_target.csv\")\n",
        "TRAIN_01=TRAIN_01.fillna(0)\n",
        "print(TRAIN_01.head())\n"
      ],
      "execution_count": 0,
      "outputs": [
        {
          "output_type": "stream",
          "text": [
            "   Ilha1  Ilha2  Ilha3  Ilha4  TEMPO INÍCIO  TEMPO FINAL\n",
            "0    0.0    0.0    1.0    0.0       360.000      397.227\n",
            "1    0.0    1.0    0.0    0.0       365.000      401.099\n",
            "2    1.0    0.0    0.0    0.0       370.000      388.492\n",
            "3    0.0    0.0    1.0    0.0       397.227      447.043\n",
            "4    0.0    1.0    0.0    0.0       401.099      431.313\n"
          ],
          "name": "stdout"
        }
      ]
    },
    {
      "cell_type": "code",
      "metadata": {
        "id": "mYPfigvpAxbU",
        "colab_type": "code",
        "outputId": "b1e8d7a2-68ec-496b-a348-a2e08ab831f6",
        "colab": {
          "base_uri": "https://localhost:8080/",
          "height": 127
        }
      },
      "source": [
        "TRAIN_02=pd.read_csv(\"fila_1_tch.csv\")\n",
        "TRAIN_02=TRAIN_02.fillna(0)\n",
        "print(TRAIN_02.head())"
      ],
      "execution_count": 0,
      "outputs": [
        {
          "output_type": "stream",
          "text": [
            "  TRUCK  Tch\n",
            "0  cam1  360\n",
            "1  cam2  365\n",
            "2  cam3  370\n",
            "3  cam4  375\n",
            "4  cam5  380\n"
          ],
          "name": "stdout"
        }
      ]
    },
    {
      "cell_type": "code",
      "metadata": {
        "id": "z_bhPg1rA9PF",
        "colab_type": "code",
        "outputId": "f595284a-8b7e-44cb-d046-10db693d0376",
        "colab": {
          "base_uri": "https://localhost:8080/",
          "height": 822
        }
      },
      "source": [
        "TRAIN_03=pd.read_csv(\"fila_1_fuel.csv\")\n",
        "TRAIN_03=TRAIN_03.fillna(0)\n",
        "print(TRAIN_03.head())\n",
        "\n",
        "#print(TRAIN_03['A.GA'])\n",
        "#TRAIN_03['A.GA'].astype(np.float)\n",
        "#TRAIN_03['A.GA']=float(TRAIN_03['A.GA'])\n",
        "TRAIN_03 = TRAIN_03.replace(' ',0, regex=True)\n",
        "#TRAIN_03['A.GA'] = TRAIN_03['A.GA'].astype(float)\n",
        "print('-------------')\n",
        "print(TRAIN_03['C.OD'][3])\n",
        "print( type(TRAIN_03['C.OD'][3]))\n",
        "#A=float(TRAIN_03['C.OD'][3])\n",
        "#print(A)\n",
        "print(type(TRAIN_03['C.OD'][3]))\n",
        "print(\"===============\")\n",
        "print(TRAIN_03.dtypes)\n",
        "print(\"++++++++++++++++++++++++\")\n",
        "print(TRAIN_03.head())"
      ],
      "execution_count": 0,
      "outputs": [
        {
          "output_type": "stream",
          "text": [
            "  A.OD A.GA A.AH B.OD B.GA B.AH C.OD  ... E.AH F.OD F.GA F.AH G.OD G.GA G.AH\n",
            "0    1              1                 ...                                   \n",
            "1    1              1                 ...                                   \n",
            "2    1              1                 ...                                   \n",
            "3    1              1                 ...              1                    \n",
            "4    1              1              1  ...              1                    \n",
            "\n",
            "[5 rows x 21 columns]\n",
            "-------------\n",
            "0\n",
            "<class 'int'>\n",
            "<class 'int'>\n",
            "===============\n",
            "A.OD    object\n",
            "A.GA    object\n",
            "A.AH    object\n",
            "B.OD    object\n",
            "B.GA    object\n",
            "B.AH    object\n",
            "C.OD    object\n",
            "C.GA    object\n",
            "C.AH    object\n",
            "D.OD    object\n",
            "D.GA    object\n",
            "D.AH    object\n",
            "E.OD    object\n",
            "E.GA    object\n",
            "E.AH    object\n",
            "F.OD    object\n",
            "F.GA    object\n",
            "F.AH    object\n",
            "G.OD     int64\n",
            "G.GA     int64\n",
            "G.AH    object\n",
            "dtype: object\n",
            "++++++++++++++++++++++++\n",
            "  A.OD A.GA A.AH B.OD B.GA B.AH C.OD  ... E.AH F.OD F.GA F.AH G.OD G.GA G.AH\n",
            "0    1    0    0    1    0    0    0  ...    0    0    0    0    0    0    0\n",
            "1    1    0    0    1    0    0    0  ...    0    0    0    0    0    0    0\n",
            "2    1    0    0    1    0    0    0  ...    0    0    0    0    0    0    0\n",
            "3    1    0    0    1    0    0    0  ...    0    0    1    0    0    0    0\n",
            "4    1    0    0    1    0    0    1  ...    0    0    1    0    0    0    0\n",
            "\n",
            "[5 rows x 21 columns]\n"
          ],
          "name": "stdout"
        }
      ]
    },
    {
      "cell_type": "code",
      "metadata": {
        "id": "Xp_kmQpwHqKF",
        "colab_type": "code",
        "outputId": "84174fa7-c8a2-4561-bf32-312b57b86ab1",
        "colab": {
          "base_uri": "https://localhost:8080/",
          "height": 163
        }
      },
      "source": [
        "TRAIN_03=TRAIN_03[:].astype(np.float)\n",
        "print(TRAIN_03.head())"
      ],
      "execution_count": 0,
      "outputs": [
        {
          "output_type": "stream",
          "text": [
            "   A.OD  A.GA  A.AH  B.OD  B.GA  B.AH  ...  F.OD  F.GA  F.AH  G.OD  G.GA  G.AH\n",
            "0   1.0   0.0   0.0   1.0   0.0   0.0  ...   0.0   0.0   0.0   0.0   0.0   0.0\n",
            "1   1.0   0.0   0.0   1.0   0.0   0.0  ...   0.0   0.0   0.0   0.0   0.0   0.0\n",
            "2   1.0   0.0   0.0   1.0   0.0   0.0  ...   0.0   0.0   0.0   0.0   0.0   0.0\n",
            "3   1.0   0.0   0.0   1.0   0.0   0.0  ...   0.0   1.0   0.0   0.0   0.0   0.0\n",
            "4   1.0   0.0   0.0   1.0   0.0   0.0  ...   0.0   1.0   0.0   0.0   0.0   0.0\n",
            "\n",
            "[5 rows x 21 columns]\n"
          ],
          "name": "stdout"
        }
      ]
    },
    {
      "cell_type": "code",
      "metadata": {
        "id": "YvXCMeM1BEGF",
        "colab_type": "code",
        "outputId": "59345f50-43f7-4b68-e390-4c0d4e1d3d2d",
        "colab": {
          "base_uri": "https://localhost:8080/",
          "height": 273
        }
      },
      "source": [
        "TRAIN_04=pd.read_csv(\"fila_1_vol.csv\")\n",
        "TRAIN_04=TRAIN_04.fillna(0)\n",
        "print(TRAIN_04.head())\n",
        "print(TRAIN_04.dtypes)\n"
      ],
      "execution_count": 0,
      "outputs": [
        {
          "output_type": "stream",
          "text": [
            "      A       B        C       D       E       F    G\n",
            "0  5000  5000.0  10000.0  5000.0     0.0     0.0  0.0\n",
            "1  5000  3000.0   5000.0  5000.0  3000.0     0.0  0.0\n",
            "2  5000  5000.0   5000.0     0.0     0.0     0.0  0.0\n",
            "3  5000  5000.0   5000.0  5000.0  5000.0  5000.0  0.0\n",
            "4  5000  5000.0   5000.0  5000.0  5000.0  5000.0  0.0\n",
            "A      int64\n",
            "B    float64\n",
            "C    float64\n",
            "D    float64\n",
            "E    float64\n",
            "F    float64\n",
            "G    float64\n",
            "dtype: object\n"
          ],
          "name": "stdout"
        }
      ]
    }
  ]
}